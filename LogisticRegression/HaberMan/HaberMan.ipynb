{
 "cells": [
  {
   "cell_type": "code",
   "metadata": {
    "ExecuteTime": {
     "end_time": "2024-04-12T07:24:04.204099Z",
     "start_time": "2024-04-12T07:24:04.184937Z"
    }
   },
   "source": [
    "import numpy as np\n",
    "import matplotlib.pyplot as plt\n",
    "import pandas as pd\n",
    "import seaborn as sns"
   ],
   "outputs": [],
   "execution_count": 30
  },
  {
   "cell_type": "code",
   "metadata": {
    "ExecuteTime": {
     "end_time": "2024-04-12T07:24:04.221449Z",
     "start_time": "2024-04-12T07:24:04.209110Z"
    }
   },
   "source": [
    "data=pd.read_csv('haberman.csv')"
   ],
   "outputs": [],
   "execution_count": 31
  },
  {
   "cell_type": "code",
   "metadata": {
    "ExecuteTime": {
     "end_time": "2024-04-12T07:24:04.242417Z",
     "start_time": "2024-04-12T07:24:04.223459Z"
    }
   },
   "source": [
    "data.head()"
   ],
   "outputs": [
    {
     "data": {
      "text/plain": [
       "   30  64   1  1.1\n",
       "0  30  62   3    1\n",
       "1  30  65   0    1\n",
       "2  31  59   2    1\n",
       "3  31  65   4    1\n",
       "4  33  58  10    1"
      ],
      "text/html": [
       "<div>\n",
       "<style scoped>\n",
       "    .dataframe tbody tr th:only-of-type {\n",
       "        vertical-align: middle;\n",
       "    }\n",
       "\n",
       "    .dataframe tbody tr th {\n",
       "        vertical-align: top;\n",
       "    }\n",
       "\n",
       "    .dataframe thead th {\n",
       "        text-align: right;\n",
       "    }\n",
       "</style>\n",
       "<table border=\"1\" class=\"dataframe\">\n",
       "  <thead>\n",
       "    <tr style=\"text-align: right;\">\n",
       "      <th></th>\n",
       "      <th>30</th>\n",
       "      <th>64</th>\n",
       "      <th>1</th>\n",
       "      <th>1.1</th>\n",
       "    </tr>\n",
       "  </thead>\n",
       "  <tbody>\n",
       "    <tr>\n",
       "      <th>0</th>\n",
       "      <td>30</td>\n",
       "      <td>62</td>\n",
       "      <td>3</td>\n",
       "      <td>1</td>\n",
       "    </tr>\n",
       "    <tr>\n",
       "      <th>1</th>\n",
       "      <td>30</td>\n",
       "      <td>65</td>\n",
       "      <td>0</td>\n",
       "      <td>1</td>\n",
       "    </tr>\n",
       "    <tr>\n",
       "      <th>2</th>\n",
       "      <td>31</td>\n",
       "      <td>59</td>\n",
       "      <td>2</td>\n",
       "      <td>1</td>\n",
       "    </tr>\n",
       "    <tr>\n",
       "      <th>3</th>\n",
       "      <td>31</td>\n",
       "      <td>65</td>\n",
       "      <td>4</td>\n",
       "      <td>1</td>\n",
       "    </tr>\n",
       "    <tr>\n",
       "      <th>4</th>\n",
       "      <td>33</td>\n",
       "      <td>58</td>\n",
       "      <td>10</td>\n",
       "      <td>1</td>\n",
       "    </tr>\n",
       "  </tbody>\n",
       "</table>\n",
       "</div>"
      ]
     },
     "execution_count": 32,
     "metadata": {},
     "output_type": "execute_result"
    }
   ],
   "execution_count": 32
  },
  {
   "cell_type": "code",
   "metadata": {
    "ExecuteTime": {
     "end_time": "2024-04-12T07:24:04.256140Z",
     "start_time": "2024-04-12T07:24:04.246426Z"
    }
   },
   "source": [
    "data.isnull().sum()"
   ],
   "outputs": [
    {
     "data": {
      "text/plain": [
       "30     0\n",
       "64     0\n",
       "1      0\n",
       "1.1    0\n",
       "dtype: int64"
      ]
     },
     "execution_count": 33,
     "metadata": {},
     "output_type": "execute_result"
    }
   ],
   "execution_count": 33
  },
  {
   "cell_type": "code",
   "metadata": {
    "ExecuteTime": {
     "end_time": "2024-04-12T07:24:04.285280Z",
     "start_time": "2024-04-12T07:24:04.261149Z"
    }
   },
   "source": [
    "data.describe()\n"
   ],
   "outputs": [
    {
     "data": {
      "text/plain": [
       "               30          64           1         1.1\n",
       "count  305.000000  305.000000  305.000000  305.000000\n",
       "mean    52.531148   62.849180    4.036066    1.265574\n",
       "std     10.744024    3.254078    7.199370    0.442364\n",
       "min     30.000000   58.000000    0.000000    1.000000\n",
       "25%     44.000000   60.000000    0.000000    1.000000\n",
       "50%     52.000000   63.000000    1.000000    1.000000\n",
       "75%     61.000000   66.000000    4.000000    2.000000\n",
       "max     83.000000   69.000000   52.000000    2.000000"
      ],
      "text/html": [
       "<div>\n",
       "<style scoped>\n",
       "    .dataframe tbody tr th:only-of-type {\n",
       "        vertical-align: middle;\n",
       "    }\n",
       "\n",
       "    .dataframe tbody tr th {\n",
       "        vertical-align: top;\n",
       "    }\n",
       "\n",
       "    .dataframe thead th {\n",
       "        text-align: right;\n",
       "    }\n",
       "</style>\n",
       "<table border=\"1\" class=\"dataframe\">\n",
       "  <thead>\n",
       "    <tr style=\"text-align: right;\">\n",
       "      <th></th>\n",
       "      <th>30</th>\n",
       "      <th>64</th>\n",
       "      <th>1</th>\n",
       "      <th>1.1</th>\n",
       "    </tr>\n",
       "  </thead>\n",
       "  <tbody>\n",
       "    <tr>\n",
       "      <th>count</th>\n",
       "      <td>305.000000</td>\n",
       "      <td>305.000000</td>\n",
       "      <td>305.000000</td>\n",
       "      <td>305.000000</td>\n",
       "    </tr>\n",
       "    <tr>\n",
       "      <th>mean</th>\n",
       "      <td>52.531148</td>\n",
       "      <td>62.849180</td>\n",
       "      <td>4.036066</td>\n",
       "      <td>1.265574</td>\n",
       "    </tr>\n",
       "    <tr>\n",
       "      <th>std</th>\n",
       "      <td>10.744024</td>\n",
       "      <td>3.254078</td>\n",
       "      <td>7.199370</td>\n",
       "      <td>0.442364</td>\n",
       "    </tr>\n",
       "    <tr>\n",
       "      <th>min</th>\n",
       "      <td>30.000000</td>\n",
       "      <td>58.000000</td>\n",
       "      <td>0.000000</td>\n",
       "      <td>1.000000</td>\n",
       "    </tr>\n",
       "    <tr>\n",
       "      <th>25%</th>\n",
       "      <td>44.000000</td>\n",
       "      <td>60.000000</td>\n",
       "      <td>0.000000</td>\n",
       "      <td>1.000000</td>\n",
       "    </tr>\n",
       "    <tr>\n",
       "      <th>50%</th>\n",
       "      <td>52.000000</td>\n",
       "      <td>63.000000</td>\n",
       "      <td>1.000000</td>\n",
       "      <td>1.000000</td>\n",
       "    </tr>\n",
       "    <tr>\n",
       "      <th>75%</th>\n",
       "      <td>61.000000</td>\n",
       "      <td>66.000000</td>\n",
       "      <td>4.000000</td>\n",
       "      <td>2.000000</td>\n",
       "    </tr>\n",
       "    <tr>\n",
       "      <th>max</th>\n",
       "      <td>83.000000</td>\n",
       "      <td>69.000000</td>\n",
       "      <td>52.000000</td>\n",
       "      <td>2.000000</td>\n",
       "    </tr>\n",
       "  </tbody>\n",
       "</table>\n",
       "</div>"
      ]
     },
     "execution_count": 34,
     "metadata": {},
     "output_type": "execute_result"
    }
   ],
   "execution_count": 34
  },
  {
   "metadata": {
    "ExecuteTime": {
     "end_time": "2024-04-12T07:24:04.731404Z",
     "start_time": "2024-04-12T07:24:04.286287Z"
    }
   },
   "cell_type": "code",
   "source": "sns.heatmap(data.corr(),annot=True)",
   "outputs": [
    {
     "data": {
      "text/plain": [
       "<Axes: >"
      ]
     },
     "execution_count": 35,
     "metadata": {},
     "output_type": "execute_result"
    },
    {
     "data": {
      "text/plain": [
       "<Figure size 640x480 with 2 Axes>"
      ],
      "image/png": "[encoded data removed]"
     },
     "metadata": {},
     "output_type": "display_data"
    }
   ],
   "execution_count": 35
  },
  {
   "cell_type": "code",
   "metadata": {
    "ExecuteTime": {
     "end_time": "2024-04-12T07:24:04.739895Z",
     "start_time": "2024-04-12T07:24:04.733801Z"
    }
   },
   "source": [
    "data.shape\n",
    "# data=(data-data.mean())/data.std()"
   ],
   "outputs": [
    {
     "data": {
      "text/plain": [
       "(305, 4)"
      ]
     },
     "execution_count": 36,
     "metadata": {},
     "output_type": "execute_result"
    }
   ],
   "execution_count": 36
  },
  {
   "cell_type": "code",
   "metadata": {
    "ExecuteTime": {
     "end_time": "2024-04-12T07:24:04.763966Z",
     "start_time": "2024-04-12T07:24:04.747133Z"
    }
   },
   "source": [
    "print(data['1.1'].value_counts())\n",
    "\n",
    "data['1.1']=data['1.1'].replace(2,0)\n",
    "\n",
    "print(data['1.1'].value_counts())\n",
    "\n",
    "label=data['1.1']\n",
    "data=data.drop('1.1',axis=1)\n",
    "print(data.head())\n",
    "\n",
    "label=label.values\n",
    "data=data.values\n",
    "\n",
    "print(data.shape,label.shape)\n"
   ],
   "outputs": [
    {
     "name": "stdout",
     "output_type": "stream",
     "text": [
      "1.1\n",
      "1    224\n",
      "2     81\n",
      "Name: count, dtype: int64\n",
      "1.1\n",
      "1    224\n",
      "0     81\n",
      "Name: count, dtype: int64\n",
      "   30  64   1\n",
      "0  30  62   3\n",
      "1  30  65   0\n",
      "2  31  59   2\n",
      "3  31  65   4\n",
      "4  33  58  10\n",
      "(305, 3) (305,)\n"
     ]
    }
   ],
   "execution_count": 37
  },
  {
   "cell_type": "code",
   "metadata": {
    "ExecuteTime": {
     "end_time": "2024-04-12T07:24:04.773464Z",
     "start_time": "2024-04-12T07:24:04.765980Z"
    }
   },
   "source": [
    "split=0.8\n",
    "\n",
    "train_x=data[:int(split*data.shape[0])] \n",
    "train_y=label[:int(split*label.shape[0])]\n",
    "\n",
    "test_x=data[int(split*data.shape[0]):]\n",
    "test_y=label[int(split*label.shape[0]):]\n",
    "\n",
    "ones=np.ones((train_x.shape[0],1))\n",
    "train_x=np.hstack((ones,train_x))\n",
    "\n",
    "ones=np.ones((test_x.shape[0],1))\n",
    "test_x=np.hstack((ones,test_x))\n",
    "\n",
    "print(train_x.shape,train_y.shape,test_x.shape,test_y.shape)"
   ],
   "outputs": [
    {
     "name": "stdout",
     "output_type": "stream",
     "text": [
      "(244, 4) (244,) (61, 4) (61,)\n"
     ]
    }
   ],
   "execution_count": 38
  },
  {
   "cell_type": "code",
   "metadata": {
    "ExecuteTime": {
     "end_time": "2024-04-12T07:24:04.783206Z",
     "start_time": "2024-04-12T07:24:04.778489Z"
    }
   },
   "source": [
    "def sigmoid(x):\n",
    "    return 1/(1+np.exp(-x)) "
   ],
   "outputs": [],
   "execution_count": 39
  },
  {
   "cell_type": "markdown",
   "source": [],
   "metadata": {
    "collapsed": false
   }
  },
  {
   "cell_type": "code",
   "metadata": {
    "ExecuteTime": {
     "end_time": "2024-04-12T07:24:04.795196Z",
     "start_time": "2024-04-12T07:24:04.787218Z"
    }
   },
   "source": [
    "def hypothesis(X,w):\n",
    "    return sigmoid(np.dot(X,w))"
   ],
   "outputs": [],
   "execution_count": 40
  },
  {
   "cell_type": "code",
   "metadata": {
    "ExecuteTime": {
     "end_time": "2024-04-12T07:24:04.803209Z",
     "start_time": "2024-04-12T07:24:04.797220Z"
    }
   },
   "source": [
    "def loss_function(x,y,w):\n",
    "    hyp_th=hypothesis(x,w)\n",
    "    loss = -1.0*np.mean((y*np.log(hyp_th) + ((1-y)*np.log(1-hyp_th))))\n",
    "    return loss"
   ],
   "outputs": [],
   "execution_count": 41
  },
  {
   "cell_type": "code",
   "metadata": {
    "ExecuteTime": {
     "end_time": "2024-04-12T07:24:04.968592Z",
     "start_time": "2024-04-12T07:24:04.960457Z"
    }
   },
   "source": [
    "def gradient(x,y,w):\n",
    "    hyp_th=hypothesis(x,w)\n",
    "    grad = np.dot(x.T,(y-hyp_th))\n",
    "    return grad/x.shape[0]"
   ],
   "outputs": [],
   "execution_count": 42
  },
  {
   "cell_type": "code",
   "metadata": {
    "ExecuteTime": {
     "end_time": "2024-04-12T07:24:05.208576Z",
     "start_time": "2024-04-12T07:24:05.199054Z"
    }
   },
   "source": [
    "def gradient_descent(x,y):\n",
    "    lr=0.001\n",
    "    epochs=2000\n",
    "    loss=[]\n",
    "    w=np.zeros((x.shape[1],))\n",
    "    for i in range(epochs):\n",
    "        grad=gradient(x,y,w)\n",
    "        loss.append(loss_function(x,y,w))\n",
    "        w=w+lr*grad\n",
    "    return w,loss"
   ],
   "outputs": [],
   "execution_count": 43
  },
  {
   "cell_type": "code",
   "metadata": {
    "ExecuteTime": {
     "end_time": "2024-04-12T07:24:05.552625Z",
     "start_time": "2024-04-12T07:24:05.412397Z"
    }
   },
   "source": [
    "w,loss=gradient_descent(train_x,train_y)"
   ],
   "outputs": [],
   "execution_count": 44
  },
  {
   "cell_type": "code",
   "metadata": {
    "ExecuteTime": {
     "end_time": "2024-04-12T07:24:05.563158Z",
     "start_time": "2024-04-12T07:24:05.555637Z"
    }
   },
   "source": [
    "print(w)"
   ],
   "outputs": [
    {
     "name": "stdout",
     "output_type": "stream",
     "text": [
      "[ 0.00531107 -0.01876364  0.037397   -0.088947  ]\n"
     ]
    }
   ],
   "execution_count": 45
  },
  {
   "cell_type": "code",
   "metadata": {
    "ExecuteTime": {
     "end_time": "2024-04-12T07:24:05.903096Z",
     "start_time": "2024-04-12T07:24:05.566167Z"
    }
   },
   "source": [
    "plt.plot(loss)"
   ],
   "outputs": [
    {
     "data": {
      "text/plain": [
       "[<matplotlib.lines.Line2D at 0x20230e7e7b0>]"
      ]
     },
     "execution_count": 46,
     "metadata": {},
     "output_type": "execute_result"
    },
    {
     "data": {
      "text/plain": [
       "<Figure size 640x480 with 1 Axes>"
      ],
      "image/png": "[encoded data removed]"
     },
     "metadata": {},
     "output_type": "display_data"
    }
   ],
   "execution_count": 46
  },
  {
   "cell_type": "code",
   "metadata": {
    "ExecuteTime": {
     "end_time": "2024-04-12T07:24:05.920279Z",
     "start_time": "2024-04-12T07:24:05.907186Z"
    }
   },
   "source": [
    "def accuracy(data, label):\n",
    "    correct = 0\n",
    "    for i in range(data.shape[0]):\n",
    "        pred = hypothesis(data[i], w)\n",
    "        if pred >= 0.5:\n",
    "            pred = 1\n",
    "        else:\n",
    "            pred = 0\n",
    "        if pred == label[i]:\n",
    "            correct += 1\n",
    "    return correct/data.shape[0]\n",
    "\n",
    "print(accuracy(test_x, test_y))"
   ],
   "outputs": [
    {
     "name": "stdout",
     "output_type": "stream",
     "text": [
      "0.7377049180327869\n"
     ]
    }
   ],
   "execution_count": 47
  },
  {
   "metadata": {
    "ExecuteTime": {
     "end_time": "2024-04-12T07:24:05.930569Z",
     "start_time": "2024-04-12T07:24:05.925255Z"
    }
   },
   "cell_type": "code",
   "source": "",
   "outputs": [],
   "execution_count": 47
  }
 ],
 "metadata": {
  "kernelspec": {
   "display_name": "Python 3",
   "language": "python",
   "name": "python3"
  },
  "language_info": {
   "codemirror_mode": {
    "name": "ipython",
    "version": 3
   },
   "file_extension": ".py",
   "mimetype": "text/x-python",
   "name": "python",
   "nbconvert_exporter": "python",
   "pygments_lexer": "ipython3",
   "version": "3.12.1"
  }
 },
 "nbformat": 4,
 "nbformat_minor": 2
}
