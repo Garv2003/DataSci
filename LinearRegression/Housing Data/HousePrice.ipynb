{
 "cells": [
  {
   "cell_type": "code",
   "execution_count": 1,
   "metadata": {
    "ExecuteTime": {
     "end_time": "2024-03-03T08:35:26.251216Z",
     "start_time": "2024-03-03T08:35:26.244787Z"
    }
   },
   "outputs": [],
   "source": [
    "import numpy as np\n",
    "import matplotlib.pyplot as plt\n",
    "import pandas as pd"
   ]
  },
  {
   "cell_type": "code",
   "execution_count": 2,
   "metadata": {
    "ExecuteTime": {
     "end_time": "2024-03-03T08:35:26.403626Z",
     "start_time": "2024-03-03T08:35:26.255230Z"
    }
   },
   "outputs": [],
   "source": [
    "data=pd.read_csv('American_Housing_Data_20231209.csv')"
   ]
  },
  {
   "cell_type": "code",
   "execution_count": 3,
   "metadata": {
    "ExecuteTime": {
     "end_time": "2024-03-03T08:35:26.439585Z",
     "start_time": "2024-03-03T08:35:26.408319Z"
    }
   },
   "outputs": [
    {
     "data": {
      "text/plain": [
       "Zip Code                   0\n",
       "Price                      0\n",
       "Beds                       0\n",
       "Baths                      0\n",
       "Living Space               0\n",
       "Address                    0\n",
       "City                       0\n",
       "State                      0\n",
       "Zip Code Population        0\n",
       "Zip Code Density           0\n",
       "County                     0\n",
       "Median Household Income    2\n",
       "Latitude                   0\n",
       "Longitude                  0\n",
       "dtype: int64"
      ]
     },
     "execution_count": 3,
     "metadata": {},
     "output_type": "execute_result"
    }
   ],
   "source": [
    "data.isnull().sum()"
   ]
  },
  {
   "cell_type": "code",
   "execution_count": 4,
   "metadata": {
    "ExecuteTime": {
     "end_time": "2024-03-03T08:35:26.459152Z",
     "start_time": "2024-03-03T08:35:26.442642Z"
    }
   },
   "outputs": [],
   "source": [
    "data['Median Household Income']=data['Median Household Income'].fillna(data['Median Household Income'].mean())"
   ]
  },
  {
   "cell_type": "code",
   "execution_count": 5,
   "metadata": {
    "ExecuteTime": {
     "end_time": "2024-03-03T08:35:26.488905Z",
     "start_time": "2024-03-03T08:35:26.462269Z"
    }
   },
   "outputs": [
    {
     "data": {
      "text/plain": [
       "Zip Code                   0\n",
       "Price                      0\n",
       "Beds                       0\n",
       "Baths                      0\n",
       "Living Space               0\n",
       "Address                    0\n",
       "City                       0\n",
       "State                      0\n",
       "Zip Code Population        0\n",
       "Zip Code Density           0\n",
       "County                     0\n",
       "Median Household Income    0\n",
       "Latitude                   0\n",
       "Longitude                  0\n",
       "dtype: int64"
      ]
     },
     "execution_count": 5,
     "metadata": {},
     "output_type": "execute_result"
    }
   ],
   "source": [
    "data.isnull().sum()"
   ]
  },
  {
   "cell_type": "code",
   "execution_count": 6,
   "metadata": {
    "ExecuteTime": {
     "end_time": "2024-03-03T08:35:26.529504Z",
     "start_time": "2024-03-03T08:35:26.490918Z"
    }
   },
   "outputs": [],
   "source": [
    "data=data.drop(['Address'],axis=1)"
   ]
  },
  {
   "cell_type": "code",
   "execution_count": 7,
   "metadata": {
    "ExecuteTime": {
     "end_time": "2024-03-03T08:35:26.569303Z",
     "start_time": "2024-03-03T08:35:26.535521Z"
    }
   },
   "outputs": [
    {
     "data": {
      "text/html": [
       "<div>\n",
       "<style scoped>\n",
       "    .dataframe tbody tr th:only-of-type {\n",
       "        vertical-align: middle;\n",
       "    }\n",
       "\n",
       "    .dataframe tbody tr th {\n",
       "        vertical-align: top;\n",
       "    }\n",
       "\n",
       "    .dataframe thead th {\n",
       "        text-align: right;\n",
       "    }\n",
       "</style>\n",
       "<table border=\"1\" class=\"dataframe\">\n",
       "  <thead>\n",
       "    <tr style=\"text-align: right;\">\n",
       "      <th></th>\n",
       "      <th>Zip Code</th>\n",
       "      <th>Price</th>\n",
       "      <th>Beds</th>\n",
       "      <th>Baths</th>\n",
       "      <th>Living Space</th>\n",
       "      <th>City</th>\n",
       "      <th>State</th>\n",
       "      <th>Zip Code Population</th>\n",
       "      <th>Zip Code Density</th>\n",
       "      <th>County</th>\n",
       "      <th>Median Household Income</th>\n",
       "      <th>Latitude</th>\n",
       "      <th>Longitude</th>\n",
       "    </tr>\n",
       "  </thead>\n",
       "  <tbody>\n",
       "    <tr>\n",
       "      <th>0</th>\n",
       "      <td>10013</td>\n",
       "      <td>3999000.0</td>\n",
       "      <td>2</td>\n",
       "      <td>3</td>\n",
       "      <td>1967</td>\n",
       "      <td>New York</td>\n",
       "      <td>New York</td>\n",
       "      <td>29563</td>\n",
       "      <td>20967.9</td>\n",
       "      <td>New York</td>\n",
       "      <td>370046.0</td>\n",
       "      <td>40.72001</td>\n",
       "      <td>-74.00472</td>\n",
       "    </tr>\n",
       "    <tr>\n",
       "      <th>1</th>\n",
       "      <td>10013</td>\n",
       "      <td>3999000.0</td>\n",
       "      <td>2</td>\n",
       "      <td>3</td>\n",
       "      <td>1967</td>\n",
       "      <td>New York</td>\n",
       "      <td>New York</td>\n",
       "      <td>29563</td>\n",
       "      <td>20967.9</td>\n",
       "      <td>New York</td>\n",
       "      <td>370046.0</td>\n",
       "      <td>40.72001</td>\n",
       "      <td>-74.00472</td>\n",
       "    </tr>\n",
       "    <tr>\n",
       "      <th>2</th>\n",
       "      <td>10014</td>\n",
       "      <td>1650000.0</td>\n",
       "      <td>1</td>\n",
       "      <td>1</td>\n",
       "      <td>718</td>\n",
       "      <td>New York</td>\n",
       "      <td>New York</td>\n",
       "      <td>29815</td>\n",
       "      <td>23740.9</td>\n",
       "      <td>New York</td>\n",
       "      <td>249880.0</td>\n",
       "      <td>40.73407</td>\n",
       "      <td>-74.00601</td>\n",
       "    </tr>\n",
       "    <tr>\n",
       "      <th>3</th>\n",
       "      <td>10014</td>\n",
       "      <td>760000.0</td>\n",
       "      <td>3</td>\n",
       "      <td>2</td>\n",
       "      <td>1538</td>\n",
       "      <td>New York</td>\n",
       "      <td>New York</td>\n",
       "      <td>29815</td>\n",
       "      <td>23740.9</td>\n",
       "      <td>New York</td>\n",
       "      <td>249880.0</td>\n",
       "      <td>40.73407</td>\n",
       "      <td>-74.00601</td>\n",
       "    </tr>\n",
       "    <tr>\n",
       "      <th>4</th>\n",
       "      <td>10014</td>\n",
       "      <td>1100000.0</td>\n",
       "      <td>1</td>\n",
       "      <td>1</td>\n",
       "      <td>600</td>\n",
       "      <td>New York</td>\n",
       "      <td>New York</td>\n",
       "      <td>29815</td>\n",
       "      <td>23740.9</td>\n",
       "      <td>New York</td>\n",
       "      <td>249880.0</td>\n",
       "      <td>40.73407</td>\n",
       "      <td>-74.00601</td>\n",
       "    </tr>\n",
       "  </tbody>\n",
       "</table>\n",
       "</div>"
      ],
      "text/plain": [
       "   Zip Code      Price  Beds  Baths  Living Space      City     State  \\\n",
       "0     10013  3999000.0     2      3          1967  New York  New York   \n",
       "1     10013  3999000.0     2      3          1967  New York  New York   \n",
       "2     10014  1650000.0     1      1           718  New York  New York   \n",
       "3     10014   760000.0     3      2          1538  New York  New York   \n",
       "4     10014  1100000.0     1      1           600  New York  New York   \n",
       "\n",
       "   Zip Code Population  Zip Code Density    County  Median Household Income  \\\n",
       "0                29563           20967.9  New York                 370046.0   \n",
       "1                29563           20967.9  New York                 370046.0   \n",
       "2                29815           23740.9  New York                 249880.0   \n",
       "3                29815           23740.9  New York                 249880.0   \n",
       "4                29815           23740.9  New York                 249880.0   \n",
       "\n",
       "   Latitude  Longitude  \n",
       "0  40.72001  -74.00472  \n",
       "1  40.72001  -74.00472  \n",
       "2  40.73407  -74.00601  \n",
       "3  40.73407  -74.00601  \n",
       "4  40.73407  -74.00601  "
      ]
     },
     "execution_count": 7,
     "metadata": {},
     "output_type": "execute_result"
    }
   ],
   "source": [
    "data.head()"
   ]
  },
  {
   "cell_type": "code",
   "execution_count": 8,
   "metadata": {
    "ExecuteTime": {
     "end_time": "2024-03-03T08:35:26.635088Z",
     "start_time": "2024-03-03T08:35:26.572313Z"
    }
   },
   "outputs": [],
   "source": [
    "from sklearn.preprocessing import LabelEncoder\n",
    "\n",
    "le=LabelEncoder()\n",
    "data['State']=le.fit_transform(data['State']).astype(float)\n",
    "data['City']=le.fit_transform(data['City']).astype(float)\n",
    "data['County']=le.fit_transform(data['County']).astype(float)"
   ]
  },
  {
   "cell_type": "code",
   "execution_count": 9,
   "metadata": {
    "ExecuteTime": {
     "end_time": "2024-03-03T08:35:26.685097Z",
     "start_time": "2024-03-03T08:35:26.637109Z"
    }
   },
   "outputs": [
    {
     "data": {
      "text/html": [
       "<div>\n",
       "<style scoped>\n",
       "    .dataframe tbody tr th:only-of-type {\n",
       "        vertical-align: middle;\n",
       "    }\n",
       "\n",
       "    .dataframe tbody tr th {\n",
       "        vertical-align: top;\n",
       "    }\n",
       "\n",
       "    .dataframe thead th {\n",
       "        text-align: right;\n",
       "    }\n",
       "</style>\n",
       "<table border=\"1\" class=\"dataframe\">\n",
       "  <thead>\n",
       "    <tr style=\"text-align: right;\">\n",
       "      <th></th>\n",
       "      <th>Zip Code</th>\n",
       "      <th>Price</th>\n",
       "      <th>Beds</th>\n",
       "      <th>Baths</th>\n",
       "      <th>Living Space</th>\n",
       "      <th>City</th>\n",
       "      <th>State</th>\n",
       "      <th>Zip Code Population</th>\n",
       "      <th>Zip Code Density</th>\n",
       "      <th>County</th>\n",
       "      <th>Median Household Income</th>\n",
       "      <th>Latitude</th>\n",
       "      <th>Longitude</th>\n",
       "    </tr>\n",
       "  </thead>\n",
       "  <tbody>\n",
       "    <tr>\n",
       "      <th>0</th>\n",
       "      <td>10013</td>\n",
       "      <td>3999000.0</td>\n",
       "      <td>2</td>\n",
       "      <td>3</td>\n",
       "      <td>1967</td>\n",
       "      <td>150.0</td>\n",
       "      <td>18.0</td>\n",
       "      <td>29563</td>\n",
       "      <td>20967.9</td>\n",
       "      <td>57.0</td>\n",
       "      <td>370046.0</td>\n",
       "      <td>40.72001</td>\n",
       "      <td>-74.00472</td>\n",
       "    </tr>\n",
       "    <tr>\n",
       "      <th>1</th>\n",
       "      <td>10013</td>\n",
       "      <td>3999000.0</td>\n",
       "      <td>2</td>\n",
       "      <td>3</td>\n",
       "      <td>1967</td>\n",
       "      <td>150.0</td>\n",
       "      <td>18.0</td>\n",
       "      <td>29563</td>\n",
       "      <td>20967.9</td>\n",
       "      <td>57.0</td>\n",
       "      <td>370046.0</td>\n",
       "      <td>40.72001</td>\n",
       "      <td>-74.00472</td>\n",
       "    </tr>\n",
       "    <tr>\n",
       "      <th>2</th>\n",
       "      <td>10014</td>\n",
       "      <td>1650000.0</td>\n",
       "      <td>1</td>\n",
       "      <td>1</td>\n",
       "      <td>718</td>\n",
       "      <td>150.0</td>\n",
       "      <td>18.0</td>\n",
       "      <td>29815</td>\n",
       "      <td>23740.9</td>\n",
       "      <td>57.0</td>\n",
       "      <td>249880.0</td>\n",
       "      <td>40.73407</td>\n",
       "      <td>-74.00601</td>\n",
       "    </tr>\n",
       "    <tr>\n",
       "      <th>3</th>\n",
       "      <td>10014</td>\n",
       "      <td>760000.0</td>\n",
       "      <td>3</td>\n",
       "      <td>2</td>\n",
       "      <td>1538</td>\n",
       "      <td>150.0</td>\n",
       "      <td>18.0</td>\n",
       "      <td>29815</td>\n",
       "      <td>23740.9</td>\n",
       "      <td>57.0</td>\n",
       "      <td>249880.0</td>\n",
       "      <td>40.73407</td>\n",
       "      <td>-74.00601</td>\n",
       "    </tr>\n",
       "    <tr>\n",
       "      <th>4</th>\n",
       "      <td>10014</td>\n",
       "      <td>1100000.0</td>\n",
       "      <td>1</td>\n",
       "      <td>1</td>\n",
       "      <td>600</td>\n",
       "      <td>150.0</td>\n",
       "      <td>18.0</td>\n",
       "      <td>29815</td>\n",
       "      <td>23740.9</td>\n",
       "      <td>57.0</td>\n",
       "      <td>249880.0</td>\n",
       "      <td>40.73407</td>\n",
       "      <td>-74.00601</td>\n",
       "    </tr>\n",
       "  </tbody>\n",
       "</table>\n",
       "</div>"
      ],
      "text/plain": [
       "   Zip Code      Price  Beds  Baths  Living Space   City  State  \\\n",
       "0     10013  3999000.0     2      3          1967  150.0   18.0   \n",
       "1     10013  3999000.0     2      3          1967  150.0   18.0   \n",
       "2     10014  1650000.0     1      1           718  150.0   18.0   \n",
       "3     10014   760000.0     3      2          1538  150.0   18.0   \n",
       "4     10014  1100000.0     1      1           600  150.0   18.0   \n",
       "\n",
       "   Zip Code Population  Zip Code Density  County  Median Household Income  \\\n",
       "0                29563           20967.9    57.0                 370046.0   \n",
       "1                29563           20967.9    57.0                 370046.0   \n",
       "2                29815           23740.9    57.0                 249880.0   \n",
       "3                29815           23740.9    57.0                 249880.0   \n",
       "4                29815           23740.9    57.0                 249880.0   \n",
       "\n",
       "   Latitude  Longitude  \n",
       "0  40.72001  -74.00472  \n",
       "1  40.72001  -74.00472  \n",
       "2  40.73407  -74.00601  \n",
       "3  40.73407  -74.00601  \n",
       "4  40.73407  -74.00601  "
      ]
     },
     "execution_count": 9,
     "metadata": {},
     "output_type": "execute_result"
    }
   ],
   "source": [
    "data.head()"
   ]
  },
  {
   "cell_type": "code",
   "execution_count": 10,
   "metadata": {
    "ExecuteTime": {
     "end_time": "2024-03-03T08:35:26.763403Z",
     "start_time": "2024-03-03T08:35:26.687113Z"
    }
   },
   "outputs": [],
   "source": [
    "data=(data-data.mean())/data.std()"
   ]
  },
  {
   "cell_type": "code",
   "execution_count": 11,
   "metadata": {
    "ExecuteTime": {
     "end_time": "2024-03-03T08:35:26.824680Z",
     "start_time": "2024-03-03T08:35:26.774330Z"
    }
   },
   "outputs": [
    {
     "name": "stdout",
     "output_type": "stream",
     "text": [
      "(31984, 13) (31984,) (7997, 13) (7997,)\n"
     ]
    }
   ],
   "source": [
    "split=0.8\n",
    "train_y=data['Median Household Income'][:int(split*len(data))]\n",
    "train_x=data.drop('Median Household Income',axis=1)[:int(split*len(data))]\n",
    "\n",
    "train_x=train_x.values\n",
    "train_y=train_y.values\n",
    "\n",
    "test_y=data['Median Household Income'][int(split*len(data)):]\n",
    "test_x=data.drop('Median Household Income',axis=1)[int(split*len(data)):]\n",
    "\n",
    "test_x=test_x.values\n",
    "test_y=test_y.values\n",
    "\n",
    "ones=np.ones((train_x.shape[0],1))\n",
    "train_x=np.hstack((ones,train_x))\n",
    "\n",
    "test_x=np.hstack((np.ones((test_x.shape[0],1)),test_x))\n",
    "\n",
    "print(train_x.shape,train_y.shape,test_x.shape,test_y.shape)"
   ]
  },
  {
   "cell_type": "code",
   "execution_count": 12,
   "metadata": {
    "ExecuteTime": {
     "end_time": "2024-03-03T08:35:26.869347Z",
     "start_time": "2024-03-03T08:35:26.827690Z"
    }
   },
   "outputs": [
    {
     "data": {
      "text/html": [
       "<div>\n",
       "<style scoped>\n",
       "    .dataframe tbody tr th:only-of-type {\n",
       "        vertical-align: middle;\n",
       "    }\n",
       "\n",
       "    .dataframe tbody tr th {\n",
       "        vertical-align: top;\n",
       "    }\n",
       "\n",
       "    .dataframe thead th {\n",
       "        text-align: right;\n",
       "    }\n",
       "</style>\n",
       "<table border=\"1\" class=\"dataframe\">\n",
       "  <thead>\n",
       "    <tr style=\"text-align: right;\">\n",
       "      <th></th>\n",
       "      <th>Zip Code</th>\n",
       "      <th>Price</th>\n",
       "      <th>Beds</th>\n",
       "      <th>Baths</th>\n",
       "      <th>Living Space</th>\n",
       "      <th>City</th>\n",
       "      <th>State</th>\n",
       "      <th>Zip Code Population</th>\n",
       "      <th>Zip Code Density</th>\n",
       "      <th>County</th>\n",
       "      <th>Median Household Income</th>\n",
       "      <th>Latitude</th>\n",
       "      <th>Longitude</th>\n",
       "    </tr>\n",
       "  </thead>\n",
       "  <tbody>\n",
       "    <tr>\n",
       "      <th>0</th>\n",
       "      <td>-2.140201</td>\n",
       "      <td>3.565255</td>\n",
       "      <td>-0.895236</td>\n",
       "      <td>0.403183</td>\n",
       "      <td>0.054055</td>\n",
       "      <td>0.391232</td>\n",
       "      <td>0.504805</td>\n",
       "      <td>-0.437174</td>\n",
       "      <td>6.308507</td>\n",
       "      <td>0.413745</td>\n",
       "      <td>5.479188</td>\n",
       "      <td>0.963453</td>\n",
       "      <td>1.598541</td>\n",
       "    </tr>\n",
       "    <tr>\n",
       "      <th>1</th>\n",
       "      <td>-2.140201</td>\n",
       "      <td>3.565255</td>\n",
       "      <td>-0.895236</td>\n",
       "      <td>0.403183</td>\n",
       "      <td>0.054055</td>\n",
       "      <td>0.391232</td>\n",
       "      <td>0.504805</td>\n",
       "      <td>-0.437174</td>\n",
       "      <td>6.308507</td>\n",
       "      <td>0.413745</td>\n",
       "      <td>5.479188</td>\n",
       "      <td>0.963453</td>\n",
       "      <td>1.598541</td>\n",
       "    </tr>\n",
       "    <tr>\n",
       "      <th>2</th>\n",
       "      <td>-2.140162</td>\n",
       "      <td>1.084736</td>\n",
       "      <td>-1.659298</td>\n",
       "      <td>-1.108485</td>\n",
       "      <td>-0.977062</td>\n",
       "      <td>0.391232</td>\n",
       "      <td>0.504805</td>\n",
       "      <td>-0.423679</td>\n",
       "      <td>7.249600</td>\n",
       "      <td>0.413745</td>\n",
       "      <td>2.939104</td>\n",
       "      <td>0.966615</td>\n",
       "      <td>1.598455</td>\n",
       "    </tr>\n",
       "    <tr>\n",
       "      <th>3</th>\n",
       "      <td>-2.140162</td>\n",
       "      <td>0.144906</td>\n",
       "      <td>-0.131175</td>\n",
       "      <td>-0.352651</td>\n",
       "      <td>-0.300108</td>\n",
       "      <td>0.391232</td>\n",
       "      <td>0.504805</td>\n",
       "      <td>-0.423679</td>\n",
       "      <td>7.249600</td>\n",
       "      <td>0.413745</td>\n",
       "      <td>2.939104</td>\n",
       "      <td>0.966615</td>\n",
       "      <td>1.598455</td>\n",
       "    </tr>\n",
       "    <tr>\n",
       "      <th>4</th>\n",
       "      <td>-2.140162</td>\n",
       "      <td>0.503942</td>\n",
       "      <td>-1.659298</td>\n",
       "      <td>-1.108485</td>\n",
       "      <td>-1.074478</td>\n",
       "      <td>0.391232</td>\n",
       "      <td>0.504805</td>\n",
       "      <td>-0.423679</td>\n",
       "      <td>7.249600</td>\n",
       "      <td>0.413745</td>\n",
       "      <td>2.939104</td>\n",
       "      <td>0.966615</td>\n",
       "      <td>1.598455</td>\n",
       "    </tr>\n",
       "  </tbody>\n",
       "</table>\n",
       "</div>"
      ],
      "text/plain": [
       "   Zip Code     Price      Beds     Baths  Living Space      City     State  \\\n",
       "0 -2.140201  3.565255 -0.895236  0.403183      0.054055  0.391232  0.504805   \n",
       "1 -2.140201  3.565255 -0.895236  0.403183      0.054055  0.391232  0.504805   \n",
       "2 -2.140162  1.084736 -1.659298 -1.108485     -0.977062  0.391232  0.504805   \n",
       "3 -2.140162  0.144906 -0.131175 -0.352651     -0.300108  0.391232  0.504805   \n",
       "4 -2.140162  0.503942 -1.659298 -1.108485     -1.074478  0.391232  0.504805   \n",
       "\n",
       "   Zip Code Population  Zip Code Density    County  Median Household Income  \\\n",
       "0            -0.437174          6.308507  0.413745                 5.479188   \n",
       "1            -0.437174          6.308507  0.413745                 5.479188   \n",
       "2            -0.423679          7.249600  0.413745                 2.939104   \n",
       "3            -0.423679          7.249600  0.413745                 2.939104   \n",
       "4            -0.423679          7.249600  0.413745                 2.939104   \n",
       "\n",
       "   Latitude  Longitude  \n",
       "0  0.963453   1.598541  \n",
       "1  0.963453   1.598541  \n",
       "2  0.966615   1.598455  \n",
       "3  0.966615   1.598455  \n",
       "4  0.966615   1.598455  "
      ]
     },
     "execution_count": 12,
     "metadata": {},
     "output_type": "execute_result"
    }
   ],
   "source": [
    "data.head()"
   ]
  },
  {
   "cell_type": "code",
   "execution_count": 13,
   "metadata": {
    "ExecuteTime": {
     "end_time": "2024-03-03T08:35:26.893771Z",
     "start_time": "2024-03-03T08:35:26.872298Z"
    }
   },
   "outputs": [],
   "source": [
    "def hypothesis(x,theta):\n",
    "    return np.dot(x,theta)"
   ]
  },
  {
   "cell_type": "code",
   "execution_count": 14,
   "metadata": {
    "ExecuteTime": {
     "end_time": "2024-03-03T08:35:26.917694Z",
     "start_time": "2024-03-03T08:35:26.903409Z"
    }
   },
   "outputs": [],
   "source": [
    "def loss_function(x,y,theta):\n",
    "    m=x.shape[0]\n",
    "    y_=hypothesis(x,theta)\n",
    "    return np.sum((y_-y)**2)/m"
   ]
  },
  {
   "cell_type": "code",
   "execution_count": 15,
   "metadata": {
    "ExecuteTime": {
     "end_time": "2024-03-03T08:35:26.931163Z",
     "start_time": "2024-03-03T08:35:26.919947Z"
    }
   },
   "outputs": [],
   "source": [
    "def gradient(x,y,theta):\n",
    "    m,n=x.shape\n",
    "    y_=hypothesis(x,theta)\n",
    "    grad=np.dot(x.T,(y_-y))\n",
    "    return grad/m"
   ]
  },
  {
   "cell_type": "code",
   "execution_count": 16,
   "metadata": {
    "ExecuteTime": {
     "end_time": "2024-03-03T08:35:26.950669Z",
     "start_time": "2024-03-03T08:35:26.935989Z"
    }
   },
   "outputs": [],
   "source": [
    "def gradient_descent(x,y,learning_rate=0.03,max_steps=1000):\n",
    "    m,n=x.shape\n",
    "    theta=np.zeros((n,))\n",
    "    error_list=[]\n",
    "    for i in range(max_steps):\n",
    "        e=loss_function(x,y,theta)\n",
    "        error_list.append(e)\n",
    "        grad=gradient(x,y,theta)\n",
    "        theta=theta-learning_rate*grad\n",
    "    return theta,error_list"
   ]
  },
  {
   "cell_type": "code",
   "execution_count": 17,
   "metadata": {
    "ExecuteTime": {
     "end_time": "2024-03-03T08:35:28.049614Z",
     "start_time": "2024-03-03T08:35:26.953275Z"
    }
   },
   "outputs": [],
   "source": [
    "theta,error_list=gradient_descent(train_x,train_y)"
   ]
  },
  {
   "cell_type": "code",
   "execution_count": 18,
   "metadata": {
    "ExecuteTime": {
     "end_time": "2024-03-03T08:35:28.073385Z",
     "start_time": "2024-03-03T08:35:28.051629Z"
    }
   },
   "outputs": [
    {
     "name": "stdout",
     "output_type": "stream",
     "text": [
      "[-0.11558535 -0.09423829  0.2483895  -0.20985282  0.26694935  0.107775\n",
      "  0.00550097  0.00242529 -0.11670983  0.09068514 -0.03321567 -0.03681627\n",
      " -0.08623926]\n"
     ]
    }
   ],
   "source": [
    "print(theta)"
   ]
  },
  {
   "cell_type": "code",
   "execution_count": 19,
   "metadata": {
    "ExecuteTime": {
     "end_time": "2024-03-03T08:35:28.445407Z",
     "start_time": "2024-03-03T08:35:28.079401Z"
    }
   },
   "outputs": [
    {
     "data": {
      "text/plain": [
       "[<matplotlib.lines.Line2D at 0x226229ee1b0>]"
      ]
     },
     "execution_count": 19,
     "metadata": {},
     "output_type": "execute_result"
    },
    {
     "data": {
      "image/png": "[encoded data removed]",
      "text/plain": [
       "<Figure size 640x480 with 1 Axes>"
      ]
     },
     "metadata": {},
     "output_type": "display_data"
    }
   ],
   "source": [
    "plt.plot(error_list)"
   ]
  },
  {
   "cell_type": "code",
   "execution_count": 20,
   "metadata": {
    "ExecuteTime": {
     "end_time": "2024-03-03T08:35:28.461609Z",
     "start_time": "2024-03-03T08:35:28.449417Z"
    }
   },
   "outputs": [],
   "source": [
    "y_pred=hypothesis(test_x,theta)"
   ]
  },
  {
   "cell_type": "code",
   "execution_count": 21,
   "metadata": {
    "ExecuteTime": {
     "end_time": "2024-03-03T08:35:28.475091Z",
     "start_time": "2024-03-03T08:35:28.465625Z"
    }
   },
   "outputs": [
    {
     "name": "stdout",
     "output_type": "stream",
     "text": [
      "[-0.022577   -0.06601676 -0.07638047 ... -0.12374549 -0.34950267\n",
      "  0.26038546]\n"
     ]
    }
   ],
   "source": [
    "print(y_pred)"
   ]
  },
  {
   "cell_type": "code",
   "execution_count": 23,
   "metadata": {
    "ExecuteTime": {
     "end_time": "2024-03-03T08:35:28.486422Z",
     "start_time": "2024-03-03T08:35:28.479099Z"
    }
   },
   "outputs": [
    {
     "data": {
      "text/plain": [
       "<matplotlib.collections.PathCollection at 0x22622a4fc20>"
      ]
     },
     "execution_count": 23,
     "metadata": {},
     "output_type": "execute_result"
    },
    {
     "data": {
      "image/png": "[encoded data removed]",
      "text/plain": [
       "<Figure size 640x480 with 1 Axes>"
      ]
     },
     "metadata": {},
     "output_type": "display_data"
    }
   ],
   "source": [
    "# predict \n",
    "plt.scatter(test_y,y_pred)"
   ]
  },
  {
   "cell_type": "code",
   "execution_count": 26,
   "metadata": {},
   "outputs": [
    {
     "name": "stdout",
     "output_type": "stream",
     "text": [
      "-0.9234421760332412 5.47918828485984\n"
     ]
    }
   ],
   "source": [
    "# test output vs predicted output\n",
    "y_pred=hypothesis(train_x[20],theta)\n",
    "print(y_pred,train_y[0])"
   ]
  },
  {
   "cell_type": "code",
   "execution_count": null,
   "metadata": {},
   "outputs": [],
   "source": []
  }
 ],
 "metadata": {
  "kernelspec": {
   "display_name": "Python 3",
   "language": "python",
   "name": "python3"
  },
  "language_info": {
   "codemirror_mode": {
    "name": "ipython",
    "version": 3
   },
   "file_extension": ".py",
   "mimetype": "text/x-python",
   "name": "python",
   "nbconvert_exporter": "python",
   "pygments_lexer": "ipython3",
   "version": "3.12.1"
  }
 },
 "nbformat": 4,
 "nbformat_minor": 2
}
